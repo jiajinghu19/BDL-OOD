{
 "cells": [
  {
   "cell_type": "markdown",
   "id": "61e39c8d",
   "metadata": {
    "papermill": {
     "duration": 0.003667,
     "end_time": "2022-11-15T04:43:38.242397",
     "exception": false,
     "start_time": "2022-11-15T04:43:38.238730",
     "status": "completed"
    },
    "tags": []
   },
   "source": [
    "# ODIN Kaggle - Train on CIFAR-10 and Test on ImageNet\n",
    "\n",
    "This notebook is set up to run on Kaggle since they have free GPU hours. It tries to reproduce the results seen in their paper. At a high level, this notebook\n",
    "- Clones my (Harry's) forked repo of ODIN since their code has some bugs in Python 3 (I'm assuming their syntax was valid in Python 2 or something)\n",
    "- Downloads their DenseNet-BC trained on CIFAR-10\n",
    "- Downloads SVHN cropped test set\n",
    "- Evaluates the model using ODIN and using the baseline"
   ]
  },
  {
   "cell_type": "code",
   "execution_count": 1,
   "id": "a50110be",
   "metadata": {
    "_cell_guid": "b1076dfc-b9ad-4769-8c92-a6c4dae69d19",
    "_uuid": "8f2839f25d086af736a60e9eeb907d3b93b6e0e5",
    "execution": {
     "iopub.execute_input": "2022-11-15T04:43:38.249955Z",
     "iopub.status.busy": "2022-11-15T04:43:38.249338Z",
     "iopub.status.idle": "2022-11-15T04:43:38.262590Z",
     "shell.execute_reply": "2022-11-15T04:43:38.261707Z"
    },
    "papermill": {
     "duration": 0.019564,
     "end_time": "2022-11-15T04:43:38.264657",
     "exception": false,
     "start_time": "2022-11-15T04:43:38.245093",
     "status": "completed"
    },
    "tags": []
   },
   "outputs": [],
   "source": [
    "# This Python 3 environment comes with many helpful analytics libraries installed\n",
    "# It is defined by the kaggle/python Docker image: https://github.com/kaggle/docker-python\n",
    "# For example, here's several helpful packages to load\n",
    "\n",
    "import numpy as np # linear algebra\n",
    "import pandas as pd # data processing, CSV file I/O (e.g. pd.read_csv)\n",
    "\n",
    "# Input data files are available in the read-only \"../input/\" directory\n",
    "# For example, running this (by clicking run or pressing Shift+Enter) will list all files under the input directory\n",
    "\n",
    "import os\n",
    "for dirname, _, filenames in os.walk('/kaggle/input'):\n",
    "    for filename in filenames:\n",
    "        print(os.path.join(dirname, filename))\n",
    "\n",
    "# You can write up to 20GB to the current directory (/kaggle/working/) that gets preserved as output when you create a version using \"Save & Run All\" \n",
    "# You can also write temporary files to /kaggle/temp/, but they won't be saved outside of the current session"
   ]
  },
  {
   "cell_type": "code",
   "execution_count": null,
   "id": "e5fdb5aa",
   "metadata": {
    "papermill": {
     "duration": 0.002037,
     "end_time": "2022-11-15T04:43:38.269040",
     "exception": false,
     "start_time": "2022-11-15T04:43:38.267003",
     "status": "completed"
    },
    "tags": []
   },
   "outputs": [],
   "source": []
  },
  {
   "cell_type": "code",
   "execution_count": 2,
   "id": "97c87a3b",
   "metadata": {
    "execution": {
     "iopub.execute_input": "2022-11-15T04:43:38.274926Z",
     "iopub.status.busy": "2022-11-15T04:43:38.274130Z",
     "iopub.status.idle": "2022-11-15T04:43:39.963861Z",
     "shell.execute_reply": "2022-11-15T04:43:39.962450Z"
    },
    "papermill": {
     "duration": 1.69533,
     "end_time": "2022-11-15T04:43:39.966519",
     "exception": false,
     "start_time": "2022-11-15T04:43:38.271189",
     "status": "completed"
    },
    "tags": []
   },
   "outputs": [
    {
     "name": "stdout",
     "output_type": "stream",
     "text": [
      "Cloning into 'odin'...\r\n",
      "remote: Enumerating objects: 41, done.\u001b[K\r\n",
      "remote: Counting objects: 100% (41/41), done.\u001b[K\r\n",
      "remote: Compressing objects: 100% (25/25), done.\u001b[K\r\n",
      "remote: Total 41 (delta 10), reused 32 (delta 10), pack-reused 0\u001b[K\r\n",
      "Unpacking objects: 100% (41/41), 486.16 KiB | 7.15 MiB/s, done.\r\n"
     ]
    }
   ],
   "source": [
    "!git clone https://github.com/harryli0088/odin"
   ]
  },
  {
   "cell_type": "code",
   "execution_count": 3,
   "id": "6b6cf4ef",
   "metadata": {
    "execution": {
     "iopub.execute_input": "2022-11-15T04:43:39.973958Z",
     "iopub.status.busy": "2022-11-15T04:43:39.973583Z",
     "iopub.status.idle": "2022-11-15T04:43:42.553235Z",
     "shell.execute_reply": "2022-11-15T04:43:42.551922Z"
    },
    "papermill": {
     "duration": 2.586379,
     "end_time": "2022-11-15T04:43:42.555831",
     "exception": false,
     "start_time": "2022-11-15T04:43:39.969452",
     "status": "completed"
    },
    "tags": []
   },
   "outputs": [
    {
     "name": "stdout",
     "output_type": "stream",
     "text": [
      "/kaggle/working/odin/models\n",
      "--2022-11-15 04:43:40--  https://www.dropbox.com/s/wr4kjintq1tmorr/densenet10.pth.tar.gz\r\n",
      "Resolving www.dropbox.com (www.dropbox.com)... 162.125.9.18, 2620:100:601f:18::a27d:912\r\n",
      "Connecting to www.dropbox.com (www.dropbox.com)|162.125.9.18|:443... connected.\r\n",
      "HTTP request sent, awaiting response... 302 Found\r\n",
      "Location: /s/raw/wr4kjintq1tmorr/densenet10.pth.tar.gz [following]\r\n",
      "--2022-11-15 04:43:41--  https://www.dropbox.com/s/raw/wr4kjintq1tmorr/densenet10.pth.tar.gz\r\n",
      "Reusing existing connection to www.dropbox.com:443.\r\n",
      "HTTP request sent, awaiting response... 302 Found\r\n",
      "Location: https://ucca97043abc7f13d2ae5688f74c.dl.dropboxusercontent.com/cd/0/inline/BwyhDUzJrLN1_A6yfORkrBn2-23lGaPv_i1HnPlDu7-AcgOSGOgMX2ELVSBgBV4WXH4fgdbIzMtOVzUbycuuROz1AILy7Ml99BMFTL-yxPX8eEKvosJmud-zqs_DkhW8Nixc8dxeIJ27T1g1X_fPH0iKZx4XF_gO9YK-aO55ITs8WA/file# [following]\r\n",
      "--2022-11-15 04:43:41--  https://ucca97043abc7f13d2ae5688f74c.dl.dropboxusercontent.com/cd/0/inline/BwyhDUzJrLN1_A6yfORkrBn2-23lGaPv_i1HnPlDu7-AcgOSGOgMX2ELVSBgBV4WXH4fgdbIzMtOVzUbycuuROz1AILy7Ml99BMFTL-yxPX8eEKvosJmud-zqs_DkhW8Nixc8dxeIJ27T1g1X_fPH0iKZx4XF_gO9YK-aO55ITs8WA/file\r\n",
      "Resolving ucca97043abc7f13d2ae5688f74c.dl.dropboxusercontent.com (ucca97043abc7f13d2ae5688f74c.dl.dropboxusercontent.com)... 162.125.9.15, 2620:100:601f:15::a27d:90f\r\n",
      "Connecting to ucca97043abc7f13d2ae5688f74c.dl.dropboxusercontent.com (ucca97043abc7f13d2ae5688f74c.dl.dropboxusercontent.com)|162.125.9.15|:443... connected.\r\n",
      "HTTP request sent, awaiting response... 302 Found\r\n",
      "Location: /cd/0/inline2/Bww8CzeSRUeti63YQAUEFwwPPGjkSBFRyyd4vq8WBxcbLd3WHJgjS6aOamT_EXUZbDHwQE2C3Z2bA9BZ-K2mPbcBXwBEz08po9PFga0Rvu0D289tNDwXNtkKkgvJTrohn0pbQ2qmvGPvZ8Yim2D_uoi8e_UnjYwm9oLW31kG4vGYPagdoev3UilfdhE3Rj-AsUzc0wsPhnvgiAV2Yjj6Nd5APeBrFuJLOGEx0FZGWfVOjEn3MU-H-9cZSLLO8aIRUddFzPAV-S6ffaHJGjcitYDANMCQmOfW6vfPx_7tQtSJPdNjOK9-Lz4A0uxLCe5e8V3fZJx1phFIgwmMpYfeDbk7uugN-AMfdTjnS50pKrBYIi512iKpM1tEpEzLpc1nCqR_N9XEHKmbfTHhb1U5lI4LxILeZpI9gwKSpmy9iKy5kA/file [following]\r\n",
      "--2022-11-15 04:43:41--  https://ucca97043abc7f13d2ae5688f74c.dl.dropboxusercontent.com/cd/0/inline2/Bww8CzeSRUeti63YQAUEFwwPPGjkSBFRyyd4vq8WBxcbLd3WHJgjS6aOamT_EXUZbDHwQE2C3Z2bA9BZ-K2mPbcBXwBEz08po9PFga0Rvu0D289tNDwXNtkKkgvJTrohn0pbQ2qmvGPvZ8Yim2D_uoi8e_UnjYwm9oLW31kG4vGYPagdoev3UilfdhE3Rj-AsUzc0wsPhnvgiAV2Yjj6Nd5APeBrFuJLOGEx0FZGWfVOjEn3MU-H-9cZSLLO8aIRUddFzPAV-S6ffaHJGjcitYDANMCQmOfW6vfPx_7tQtSJPdNjOK9-Lz4A0uxLCe5e8V3fZJx1phFIgwmMpYfeDbk7uugN-AMfdTjnS50pKrBYIi512iKpM1tEpEzLpc1nCqR_N9XEHKmbfTHhb1U5lI4LxILeZpI9gwKSpmy9iKy5kA/file\r\n",
      "Reusing existing connection to ucca97043abc7f13d2ae5688f74c.dl.dropboxusercontent.com:443.\r\n",
      "HTTP request sent, awaiting response... 200 OK\r\n",
      "Length: 3023135 (2.9M) [application/octet-stream]\r\n",
      "Saving to: ‘densenet10.pth.tar.gz’\r\n",
      "\r\n",
      "densenet10.pth.tar. 100%[===================>]   2.88M  --.-KB/s    in 0.08s   \r\n",
      "\r\n",
      "2022-11-15 04:43:42 (37.2 MB/s) - ‘densenet10.pth.tar.gz’ saved [3023135/3023135]\r\n",
      "\r\n"
     ]
    }
   ],
   "source": [
    "# download dense net model\n",
    "%cd /kaggle/working/odin/models\n",
    "!wget https://www.dropbox.com/s/wr4kjintq1tmorr/densenet10.pth.tar.gz"
   ]
  },
  {
   "cell_type": "code",
   "execution_count": 4,
   "id": "2210d6de",
   "metadata": {
    "execution": {
     "iopub.execute_input": "2022-11-15T04:43:42.565365Z",
     "iopub.status.busy": "2022-11-15T04:43:42.564363Z",
     "iopub.status.idle": "2022-11-15T04:43:44.570586Z",
     "shell.execute_reply": "2022-11-15T04:43:44.569310Z"
    },
    "papermill": {
     "duration": 2.013686,
     "end_time": "2022-11-15T04:43:44.573136",
     "exception": false,
     "start_time": "2022-11-15T04:43:42.559450",
     "status": "completed"
    },
    "tags": []
   },
   "outputs": [
    {
     "name": "stdout",
     "output_type": "stream",
     "text": [
      "/kaggle/working/odin/models\n",
      "densenet10.pth\tdensenet10.pth.tar.gz\r\n"
     ]
    }
   ],
   "source": [
    "%cd /kaggle/working/odin/models\n",
    "!tar -xf densenet10.pth.tar.gz\n",
    "!ls"
   ]
  },
  {
   "cell_type": "code",
   "execution_count": 5,
   "id": "2f1dc07e",
   "metadata": {
    "execution": {
     "iopub.execute_input": "2022-11-15T04:43:44.582684Z",
     "iopub.status.busy": "2022-11-15T04:43:44.581698Z",
     "iopub.status.idle": "2022-11-15T04:43:53.989238Z",
     "shell.execute_reply": "2022-11-15T04:43:53.987824Z"
    },
    "papermill": {
     "duration": 9.415233,
     "end_time": "2022-11-15T04:43:53.992093",
     "exception": false,
     "start_time": "2022-11-15T04:43:44.576860",
     "status": "completed"
    },
    "tags": []
   },
   "outputs": [
    {
     "name": "stdout",
     "output_type": "stream",
     "text": [
      "/kaggle/working/odin/data\n",
      "--2022-11-15 04:43:48--  https://www.dropbox.com/s/avgm2u562itwpkl/Imagenet.tar.gz\r\n",
      "Resolving www.dropbox.com (www.dropbox.com)... 162.125.9.18, 2620:100:601f:18::a27d:912\r\n",
      "Connecting to www.dropbox.com (www.dropbox.com)|162.125.9.18|:443... connected.\r\n",
      "HTTP request sent, awaiting response... 302 Found\r\n",
      "Location: /s/raw/avgm2u562itwpkl/Imagenet.tar.gz [following]\r\n",
      "--2022-11-15 04:43:48--  https://www.dropbox.com/s/raw/avgm2u562itwpkl/Imagenet.tar.gz\r\n",
      "Reusing existing connection to www.dropbox.com:443.\r\n",
      "HTTP request sent, awaiting response... 302 Found\r\n",
      "Location: https://uc67408b55b9f49af079cdede5c7.dl.dropboxusercontent.com/cd/0/inline/BwxJGRLEI2lQ1sbN9faM04HBK0IlnCWkVMaqVAp6tFQZG4ioZ3_6r72rbibQAwULxK1ZPjW5BY_PrKH-kqk2YMGiENc9RImXeopVkhZ2zqqlO_FVH_msw5WWM0TvzpFtzea8Sy1MAyrIXOcNIGSRJmOPByzIsZ1QHYgNUMplJ0ys8A/file# [following]\r\n",
      "--2022-11-15 04:43:49--  https://uc67408b55b9f49af079cdede5c7.dl.dropboxusercontent.com/cd/0/inline/BwxJGRLEI2lQ1sbN9faM04HBK0IlnCWkVMaqVAp6tFQZG4ioZ3_6r72rbibQAwULxK1ZPjW5BY_PrKH-kqk2YMGiENc9RImXeopVkhZ2zqqlO_FVH_msw5WWM0TvzpFtzea8Sy1MAyrIXOcNIGSRJmOPByzIsZ1QHYgNUMplJ0ys8A/file\r\n",
      "Resolving uc67408b55b9f49af079cdede5c7.dl.dropboxusercontent.com (uc67408b55b9f49af079cdede5c7.dl.dropboxusercontent.com)... 162.125.9.15, 2620:100:601f:15::a27d:90f\r\n",
      "Connecting to uc67408b55b9f49af079cdede5c7.dl.dropboxusercontent.com (uc67408b55b9f49af079cdede5c7.dl.dropboxusercontent.com)|162.125.9.15|:443... connected.\r\n",
      "HTTP request sent, awaiting response... 302 Found\r\n",
      "Location: /cd/0/inline2/BwxBOR0XHFGd1Ep1EZaGcSVJn6XUodC4Fecgh9ngpvFpJv1Cr0E8W3vhtvL6Hb24TBJsoBDGyWE_hyx7V71j4QCa_0tT7SK43JhCyUxhQ9L9xcyCU6kS7xDdfKDt8OcnfdoiUgbTvuAAhFSBlDQVtHo1YhC5k00vYLCoEPIsTrTpfnWyaOodtYTjllGVN_lMn05ZdM7H4k--caGzmHg9fKT2Lj4W4HHZh3ufArr01vmujbpvEGG9qmwwUUL3uhA6TOq20VctkcYtmtazkHAP-EcQUffMF6Ey-GoRNqRmC2QfUZMw2YPy8XZkPxP_GH2GTgwWuim2oCXWD7XWTIHyfRoCBfRyPKFOitlNpj8CgqQdWtY0wP8gSctDHouF5cRWqWmpjkuimySRAxVoqDUBOz-GPksAWLJ8IjEat3RrUA8gOQ/file [following]\r\n",
      "--2022-11-15 04:43:49--  https://uc67408b55b9f49af079cdede5c7.dl.dropboxusercontent.com/cd/0/inline2/BwxBOR0XHFGd1Ep1EZaGcSVJn6XUodC4Fecgh9ngpvFpJv1Cr0E8W3vhtvL6Hb24TBJsoBDGyWE_hyx7V71j4QCa_0tT7SK43JhCyUxhQ9L9xcyCU6kS7xDdfKDt8OcnfdoiUgbTvuAAhFSBlDQVtHo1YhC5k00vYLCoEPIsTrTpfnWyaOodtYTjllGVN_lMn05ZdM7H4k--caGzmHg9fKT2Lj4W4HHZh3ufArr01vmujbpvEGG9qmwwUUL3uhA6TOq20VctkcYtmtazkHAP-EcQUffMF6Ey-GoRNqRmC2QfUZMw2YPy8XZkPxP_GH2GTgwWuim2oCXWD7XWTIHyfRoCBfRyPKFOitlNpj8CgqQdWtY0wP8gSctDHouF5cRWqWmpjkuimySRAxVoqDUBOz-GPksAWLJ8IjEat3RrUA8gOQ/file\r\n",
      "Reusing existing connection to uc67408b55b9f49af079cdede5c7.dl.dropboxusercontent.com:443.\r\n",
      "HTTP request sent, awaiting response... 200 OK\r\n",
      "Length: 26501958 (25M) [application/octet-stream]\r\n",
      "Saving to: ‘Imagenet.tar.gz’\r\n",
      "\r\n",
      "Imagenet.tar.gz     100%[===================>]  25.27M   108MB/s    in 0.2s    \r\n",
      "\r\n",
      "2022-11-15 04:43:50 (108 MB/s) - ‘Imagenet.tar.gz’ saved [26501958/26501958]\r\n",
      "\r\n",
      "Imagenet  Imagenet.tar.gz\r\n",
      "Imagenet\r\n"
     ]
    }
   ],
   "source": [
    "# download SVHN cropped test images\n",
    "!mkdir /kaggle/working/odin/data\n",
    "!mkdir /kaggle/working/odin/data/Imagenet\n",
    "!mkdir /kaggle/working/odin/data/Imagenet/test\n",
    "%cd /kaggle/working/odin/data\n",
    "!wget https://www.dropbox.com/s/avgm2u562itwpkl/Imagenet.tar.gz\n",
    "!tar -xf Imagenet.tar.gz -C ./Imagenet/test\n",
    "!ls\n",
    "!ls ./Imagenet/test | head -5"
   ]
  },
  {
   "cell_type": "code",
   "execution_count": 6,
   "id": "03ced78c",
   "metadata": {
    "execution": {
     "iopub.execute_input": "2022-11-15T04:43:54.003982Z",
     "iopub.status.busy": "2022-11-15T04:43:54.002854Z",
     "iopub.status.idle": "2022-11-15T05:02:05.256814Z",
     "shell.execute_reply": "2022-11-15T05:02:05.255451Z"
    },
    "papermill": {
     "duration": 1091.262626,
     "end_time": "2022-11-15T05:02:05.259455",
     "exception": false,
     "start_time": "2022-11-15T04:43:53.996829",
     "status": "completed"
    },
    "tags": []
   },
   "outputs": [
    {
     "name": "stdout",
     "output_type": "stream",
     "text": [
      "/kaggle/working/odin/code\n",
      "/opt/conda/lib/python3.7/site-packages/torch/serialization.py:786: SourceChangeWarning: source code of class 'torch.nn.modules.conv.Conv2d' has changed. you can retrieve the original source code by accessing the object's source attribute or set `torch.nn.Module.dump_patches = True` and use the patch tool to revert the changes.\r\n",
      "  warnings.warn(msg, SourceChangeWarning)\r\n",
      "/opt/conda/lib/python3.7/site-packages/torch/serialization.py:786: SourceChangeWarning: source code of class 'torch.nn.modules.container.Sequential' has changed. you can retrieve the original source code by accessing the object's source attribute or set `torch.nn.Module.dump_patches = True` and use the patch tool to revert the changes.\r\n",
      "  warnings.warn(msg, SourceChangeWarning)\r\n",
      "/opt/conda/lib/python3.7/site-packages/torch/serialization.py:786: SourceChangeWarning: source code of class 'torch.nn.modules.batchnorm.BatchNorm2d' has changed. you can retrieve the original source code by accessing the object's source attribute or set `torch.nn.Module.dump_patches = True` and use the patch tool to revert the changes.\r\n",
      "  warnings.warn(msg, SourceChangeWarning)\r\n",
      "/opt/conda/lib/python3.7/site-packages/torch/serialization.py:786: SourceChangeWarning: source code of class 'torch.nn.modules.activation.ReLU' has changed. you can retrieve the original source code by accessing the object's source attribute or set `torch.nn.Module.dump_patches = True` and use the patch tool to revert the changes.\r\n",
      "  warnings.warn(msg, SourceChangeWarning)\r\n",
      "/opt/conda/lib/python3.7/site-packages/torch/serialization.py:786: SourceChangeWarning: source code of class 'torch.nn.modules.linear.Linear' has changed. you can retrieve the original source code by accessing the object's source attribute or set `torch.nn.Module.dump_patches = True` and use the patch tool to revert the changes.\r\n",
      "  warnings.warn(msg, SourceChangeWarning)\r\n",
      "Downloading https://www.cs.toronto.edu/~kriz/cifar-10-python.tar.gz to ../data/cifar-10-python.tar.gz\r\n",
      "170499072it [00:02, 57833809.15it/s]                                            \r\n",
      "Extracting ../data/cifar-10-python.tar.gz to ../data\r\n",
      "/kaggle/working/odin/code/calData.py:73: UserWarning: This overload of add is deprecated:\r\n",
      "\tadd(Tensor input, Number alpha, Tensor other, *, Tensor out)\r\n",
      "Consider using one of the following signatures instead:\r\n",
      "\tadd(Tensor input, Tensor other, *, Number alpha, Tensor out) (Triggered internally at  /usr/local/src/pytorch/torch/csrc/utils/python_arg_parser.cpp:1055.)\r\n",
      "  tempInputs = torch.add(inputs.data,  -noiseMagnitude1, gradient)\r\n",
      " 100/9000 images processed, 14.4 seconds used.\r\n",
      " 200/9000 images processed, 5.5 seconds used.\r\n",
      " 300/9000 images processed, 5.3 seconds used.\r\n",
      " 400/9000 images processed, 6.0 seconds used.\r\n",
      " 500/9000 images processed, 5.2 seconds used.\r\n",
      " 600/9000 images processed, 5.5 seconds used.\r\n",
      " 700/9000 images processed, 5.2 seconds used.\r\n",
      " 800/9000 images processed, 5.5 seconds used.\r\n",
      " 900/9000 images processed, 5.3 seconds used.\r\n",
      "1000/9000 images processed, 6.0 seconds used.\r\n",
      "1100/9000 images processed, 5.3 seconds used.\r\n",
      "1200/9000 images processed, 5.5 seconds used.\r\n",
      "1300/9000 images processed, 5.2 seconds used.\r\n",
      "1400/9000 images processed, 5.5 seconds used.\r\n",
      "1500/9000 images processed, 5.2 seconds used.\r\n",
      "1600/9000 images processed, 6.0 seconds used.\r\n",
      "1700/9000 images processed, 5.2 seconds used.\r\n",
      "1800/9000 images processed, 5.5 seconds used.\r\n",
      "1900/9000 images processed, 5.2 seconds used.\r\n",
      "2000/9000 images processed, 5.5 seconds used.\r\n",
      "2100/9000 images processed, 5.2 seconds used.\r\n",
      "2200/9000 images processed, 6.1 seconds used.\r\n",
      "2300/9000 images processed, 5.1 seconds used.\r\n",
      "2400/9000 images processed, 5.4 seconds used.\r\n",
      "2500/9000 images processed, 5.1 seconds used.\r\n",
      "2600/9000 images processed, 5.3 seconds used.\r\n",
      "2700/9000 images processed, 5.2 seconds used.\r\n",
      "2800/9000 images processed, 5.8 seconds used.\r\n",
      "2900/9000 images processed, 5.3 seconds used.\r\n",
      "3000/9000 images processed, 5.6 seconds used.\r\n",
      "3100/9000 images processed, 5.3 seconds used.\r\n",
      "3200/9000 images processed, 5.6 seconds used.\r\n",
      "3300/9000 images processed, 5.8 seconds used.\r\n",
      "3400/9000 images processed, 5.6 seconds used.\r\n",
      "3500/9000 images processed, 5.4 seconds used.\r\n",
      "3600/9000 images processed, 5.6 seconds used.\r\n",
      "3700/9000 images processed, 5.3 seconds used.\r\n",
      "3800/9000 images processed, 5.6 seconds used.\r\n",
      "3900/9000 images processed, 6.0 seconds used.\r\n",
      "4000/9000 images processed, 5.6 seconds used.\r\n",
      "4100/9000 images processed, 5.3 seconds used.\r\n",
      "4200/9000 images processed, 5.6 seconds used.\r\n",
      "4300/9000 images processed, 5.3 seconds used.\r\n",
      "4400/9000 images processed, 5.8 seconds used.\r\n",
      "4500/9000 images processed, 5.5 seconds used.\r\n",
      "4600/9000 images processed, 5.5 seconds used.\r\n",
      "4700/9000 images processed, 5.2 seconds used.\r\n",
      "4800/9000 images processed, 5.5 seconds used.\r\n",
      "4900/9000 images processed, 5.0 seconds used.\r\n",
      "5000/9000 images processed, 6.1 seconds used.\r\n",
      "5100/9000 images processed, 5.3 seconds used.\r\n",
      "5200/9000 images processed, 5.7 seconds used.\r\n",
      "5300/9000 images processed, 5.4 seconds used.\r\n",
      "5400/9000 images processed, 5.5 seconds used.\r\n",
      "5500/9000 images processed, 5.2 seconds used.\r\n",
      "5600/9000 images processed, 5.9 seconds used.\r\n",
      "5700/9000 images processed, 5.4 seconds used.\r\n",
      "5800/9000 images processed, 5.7 seconds used.\r\n",
      "5900/9000 images processed, 5.4 seconds used.\r\n",
      "6000/9000 images processed, 5.7 seconds used.\r\n",
      "6100/9000 images processed, 5.3 seconds used.\r\n",
      "6200/9000 images processed, 5.9 seconds used.\r\n",
      "6300/9000 images processed, 5.3 seconds used.\r\n",
      "6400/9000 images processed, 5.4 seconds used.\r\n",
      "6500/9000 images processed, 5.2 seconds used.\r\n",
      "6600/9000 images processed, 5.4 seconds used.\r\n",
      "6700/9000 images processed, 5.6 seconds used.\r\n",
      "6800/9000 images processed, 5.6 seconds used.\r\n",
      "6900/9000 images processed, 5.1 seconds used.\r\n",
      "7000/9000 images processed, 5.4 seconds used.\r\n",
      "7100/9000 images processed, 5.0 seconds used.\r\n",
      "7200/9000 images processed, 5.3 seconds used.\r\n",
      "7300/9000 images processed, 5.7 seconds used.\r\n",
      "7400/9000 images processed, 5.5 seconds used.\r\n",
      "7500/9000 images processed, 5.2 seconds used.\r\n",
      "7600/9000 images processed, 5.5 seconds used.\r\n",
      "7700/9000 images processed, 5.2 seconds used.\r\n",
      "7800/9000 images processed, 5.4 seconds used.\r\n",
      "7900/9000 images processed, 5.8 seconds used.\r\n",
      "8000/9000 images processed, 5.5 seconds used.\r\n",
      "8100/9000 images processed, 5.3 seconds used.\r\n",
      "8200/9000 images processed, 5.1 seconds used.\r\n",
      "8300/9000 images processed, 5.3 seconds used.\r\n",
      "8400/9000 images processed, 5.2 seconds used.\r\n",
      "8500/9000 images processed, 6.1 seconds used.\r\n",
      "8600/9000 images processed, 5.3 seconds used.\r\n",
      "8700/9000 images processed, 6.0 seconds used.\r\n",
      "8800/9000 images processed, 5.3 seconds used.\r\n",
      "8900/9000 images processed, 5.3 seconds used.\r\n",
      "9000/9000 images processed, 5.2 seconds used.\r\n",
      "Processing out-of-distribution images\r\n",
      " 100/9000 images processed, 8.7 seconds used.\r\n",
      " 200/9000 images processed, 5.5 seconds used.\r\n",
      " 300/9000 images processed, 5.2 seconds used.\r\n",
      " 400/9000 images processed, 5.5 seconds used.\r\n",
      " 500/9000 images processed, 5.3 seconds used.\r\n",
      " 600/9000 images processed, 6.1 seconds used.\r\n",
      " 700/9000 images processed, 5.2 seconds used.\r\n",
      " 800/9000 images processed, 5.4 seconds used.\r\n",
      " 900/9000 images processed, 5.1 seconds used.\r\n",
      "1000/9000 images processed, 5.4 seconds used.\r\n",
      "1100/9000 images processed, 5.3 seconds used.\r\n",
      "1200/9000 images processed, 5.9 seconds used.\r\n",
      "1300/9000 images processed, 5.2 seconds used.\r\n",
      "1400/9000 images processed, 5.4 seconds used.\r\n",
      "1500/9000 images processed, 5.3 seconds used.\r\n",
      "1600/9000 images processed, 5.5 seconds used.\r\n",
      "1700/9000 images processed, 5.6 seconds used.\r\n",
      "1800/9000 images processed, 5.9 seconds used.\r\n",
      "1900/9000 images processed, 5.3 seconds used.\r\n",
      "2000/9000 images processed, 5.5 seconds used.\r\n",
      "2100/9000 images processed, 5.3 seconds used.\r\n",
      "2200/9000 images processed, 5.5 seconds used.\r\n",
      "2300/9000 images processed, 5.7 seconds used.\r\n",
      "2400/9000 images processed, 5.5 seconds used.\r\n",
      "2500/9000 images processed, 5.3 seconds used.\r\n",
      "2600/9000 images processed, 5.6 seconds used.\r\n",
      "2700/9000 images processed, 5.2 seconds used.\r\n",
      "2800/9000 images processed, 5.7 seconds used.\r\n",
      "2900/9000 images processed, 5.9 seconds used.\r\n",
      "3000/9000 images processed, 5.6 seconds used.\r\n",
      "3100/9000 images processed, 5.4 seconds used.\r\n",
      "3200/9000 images processed, 5.6 seconds used.\r\n",
      "3300/9000 images processed, 5.4 seconds used.\r\n",
      "3400/9000 images processed, 5.7 seconds used.\r\n",
      "3500/9000 images processed, 5.6 seconds used.\r\n",
      "3600/9000 images processed, 5.4 seconds used.\r\n",
      "3700/9000 images processed, 5.3 seconds used.\r\n",
      "3800/9000 images processed, 5.6 seconds used.\r\n",
      "3900/9000 images processed, 5.4 seconds used.\r\n",
      "4000/9000 images processed, 6.2 seconds used.\r\n",
      "4100/9000 images processed, 5.2 seconds used.\r\n",
      "4200/9000 images processed, 5.5 seconds used.\r\n",
      "4300/9000 images processed, 5.2 seconds used.\r\n",
      "4400/9000 images processed, 5.5 seconds used.\r\n",
      "4500/9000 images processed, 5.2 seconds used.\r\n",
      "4600/9000 images processed, 6.0 seconds used.\r\n",
      "4700/9000 images processed, 5.1 seconds used.\r\n",
      "4800/9000 images processed, 5.5 seconds used.\r\n",
      "4900/9000 images processed, 5.3 seconds used.\r\n",
      "5000/9000 images processed, 5.5 seconds used.\r\n",
      "5100/9000 images processed, 5.1 seconds used.\r\n",
      "5200/9000 images processed, 6.0 seconds used.\r\n",
      "5300/9000 images processed, 5.3 seconds used.\r\n",
      "5400/9000 images processed, 5.6 seconds used.\r\n",
      "5500/9000 images processed, 5.3 seconds used.\r\n",
      "5600/9000 images processed, 5.5 seconds used.\r\n",
      "5700/9000 images processed, 5.2 seconds used.\r\n",
      "5800/9000 images processed, 5.9 seconds used.\r\n",
      "5900/9000 images processed, 5.2 seconds used.\r\n",
      "6000/9000 images processed, 5.5 seconds used.\r\n",
      "6100/9000 images processed, 5.3 seconds used.\r\n",
      "6200/9000 images processed, 5.6 seconds used.\r\n",
      "6300/9000 images processed, 5.7 seconds used.\r\n",
      "6400/9000 images processed, 5.6 seconds used.\r\n",
      "6500/9000 images processed, 5.2 seconds used.\r\n",
      "6600/9000 images processed, 5.5 seconds used.\r\n",
      "6700/9000 images processed, 5.3 seconds used.\r\n",
      "6800/9000 images processed, 5.5 seconds used.\r\n",
      "6900/9000 images processed, 5.6 seconds used.\r\n",
      "7000/9000 images processed, 5.4 seconds used.\r\n",
      "7100/9000 images processed, 5.2 seconds used.\r\n",
      "7200/9000 images processed, 5.5 seconds used.\r\n",
      "7300/9000 images processed, 5.2 seconds used.\r\n",
      "7400/9000 images processed, 5.3 seconds used.\r\n",
      "7500/9000 images processed, 5.8 seconds used.\r\n",
      "7600/9000 images processed, 5.6 seconds used.\r\n",
      "7700/9000 images processed, 5.2 seconds used.\r\n",
      "7800/9000 images processed, 5.2 seconds used.\r\n",
      "7900/9000 images processed, 5.5 seconds used.\r\n",
      "8000/9000 images processed, 5.3 seconds used.\r\n",
      "8100/9000 images processed, 6.1 seconds used.\r\n",
      "8200/9000 images processed, 5.5 seconds used.\r\n",
      "8300/9000 images processed, 5.4 seconds used.\r\n",
      "8400/9000 images processed, 5.4 seconds used.\r\n",
      "8500/9000 images processed, 5.3 seconds used.\r\n",
      "8600/9000 images processed, 5.6 seconds used.\r\n",
      "8700/9000 images processed, 5.5 seconds used.\r\n",
      "8800/9000 images processed, 5.3 seconds used.\r\n",
      "8900/9000 images processed, 5.4 seconds used.\r\n",
      "9000/9000 images processed, 5.2 seconds used.\r\n",
      "Neural network architecture:          DenseNet-BC-100\r\n",
      "In-distribution dataset:                     CIFAR-10\r\n",
      "Out-of-distribution dataset:     Tiny-ImageNet (crop)\r\n",
      "\r\n",
      "                          Baseline         Our Method\r\n",
      "FPR at TPR 95%:              34.8%               4.3% \r\n",
      "Detection error:             10.0%               4.7%\r\n",
      "AUROC:                       95.3%              99.1%\r\n",
      "AUPR In:                     96.4%              99.2%\r\n",
      "AUPR Out:                    93.8%              99.1%\r\n"
     ]
    }
   ],
   "source": [
    "%cd /kaggle/working/odin/code\n",
    "# from the ODIN README:\n",
    "# model: DenseNet-BC, in-distribution: CIFAR-10, out-distribution: TinyImageNet (crop)\n",
    "# magnitude: 0.0014, temperature 1000, gpu: 0\n",
    "!python main.py --nn densenet10 --out_dataset Imagenet --magnitude 0.0014 --temperature 1000 --gpu 0"
   ]
  }
 ],
 "metadata": {
  "kernelspec": {
   "display_name": "Python 3",
   "language": "python",
   "name": "python3"
  },
  "language_info": {
   "codemirror_mode": {
    "name": "ipython",
    "version": 3
   },
   "file_extension": ".py",
   "mimetype": "text/x-python",
   "name": "python",
   "nbconvert_exporter": "python",
   "pygments_lexer": "ipython3",
   "version": "3.7.12"
  },
  "papermill": {
   "default_parameters": {},
   "duration": 1116.258689,
   "end_time": "2022-11-15T05:02:05.898967",
   "environment_variables": {},
   "exception": null,
   "input_path": "__notebook__.ipynb",
   "output_path": "__notebook__.ipynb",
   "parameters": {},
   "start_time": "2022-11-15T04:43:29.640278",
   "version": "2.3.4"
  }
 },
 "nbformat": 4,
 "nbformat_minor": 5
}
